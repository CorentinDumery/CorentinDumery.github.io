{
 "cells": [
  {
   "cell_type": "markdown",
   "metadata": {},
   "source": [
    "## Plain bubble"
   ]
  },
  {
   "cell_type": "code",
   "execution_count": null,
   "metadata": {
    "scrolled": true
   },
   "outputs": [],
   "source": [
    "from PIL import Image, ImageDraw\n",
    "import IPython.display\n",
    "import math\n",
    "\n",
    "def draw_bubble(center, b_radius, image):\n",
    "    draw = ImageDraw.Draw(im)\n",
    "    white = (255, 255, 255, 255)\n",
    "    border = (93, 199, 241, 255)\n",
    "    cyan = (150, 230, 255, 255)\n",
    "    \n",
    "    draw.ellipse((center[0]-b_radius, center[1]-b_radius, center[0] + b_radius, center[1] + b_radius), fill=cyan, outline=border)\n",
    "\n",
    "    reflect_w = b_radius // 5\n",
    "    n_spots = b_radius\n",
    "    \n",
    "    for w in range(reflect_w):\n",
    "        reflect_r = int(b_radius*(0.65-w*0.01))\n",
    "        for n in range(w, n_spots - w):\n",
    "            angle = math.pi/3 - math.pi/3 * n/n_spots\n",
    "            spot = [int(center[0] - reflect_r * math.sin(angle)), int(center[1] - reflect_r * math.cos(angle))] \n",
    "            draw.ellipse((spot[0] - 1, spot[1] - 1, spot[0] + 1, spot[1] + 1), fill=white)\n",
    "\n",
    "    draw.ellipse((center[0]-b_radius, center[1]-b_radius, center[0] + b_radius, center[1] + b_radius), fill=None, outline=border)\n",
    "    \n",
    "b_radius = 50\n",
    "\n",
    "im = Image.new('RGBA', (2*b_radius, 2*b_radius), (0, 0, 0, 50))\n",
    "center = [b_radius, b_radius]\n",
    "draw_bubble(center, b_radius, im)\n",
    "\n",
    "IPython.display.display(im)"
   ]
  },
  {
   "cell_type": "markdown",
   "metadata": {},
   "source": [
    "## Animated bubbles\n",
    "\n",
    "In order to get a seamless background, we'll wrap everything so that we can use `background-repeat`."
   ]
  },
  {
   "cell_type": "code",
   "execution_count": null,
   "metadata": {},
   "outputs": [],
   "source": [
    "from random import random, randrange, seed\n",
    "import math\n",
    "\n",
    "seed(0)\n",
    "images = []\n",
    "width = 128\n",
    "max_frame = width\n",
    "\n",
    "# Possible bubble trajectories\n",
    "trajectories = []\n",
    "for i in range(2, 4):\n",
    "    div = 2**i\n",
    "    traj =  [1] * (max_frame//div)\n",
    "    while len(traj) < max_frame:\n",
    "        traj +=  [-traj[-1]] * (max_frame//div)\n",
    "    assert(traj.count(1) == traj.count(-1))\n",
    "    trajectories.append(traj)\n",
    "    \n",
    "trajectories.append([0] * max_frame)\n",
    "    \n",
    "# Bubble characteristics\n",
    "n_bubbles = 10\n",
    "centers = [[randrange(0, width), randrange(0, width)] for i in range(n_bubbles)]\n",
    "b_radii = [randrange(2, 12) for i in range(n_bubbles)]\n",
    "b_offset = [3.14*2*random() for i in range(n_bubbles)]\n",
    "b_offset = [randrange(0, max_frame) for i in range(n_bubbles)]\n",
    "b_traj = [trajectories[randrange(0, len(trajectories))] for i in range(n_bubbles)]\n",
    "\n",
    "for im_id in range(0, max_frame):\n",
    "    im = Image.new('RGBA', (width, width), (0, 0, 0, 255))\n",
    "    draw = ImageDraw.Draw(im)\n",
    "    \n",
    "    for center_id in range(len(centers)):\n",
    "        center = centers[center_id]\n",
    "        b_radius = b_radii[center_id]\n",
    "        traj = b_traj[center_id]\n",
    "        draw_bubble(center, b_radius, im)\n",
    "                \n",
    "            \n",
    "        # wrap: if close to border, also draw bubble on the other side\n",
    "        if center[0] + b_radius > width :\n",
    "            draw_bubble([center[0] - width, center[1]], b_radius, im)\n",
    "        if center[0] - b_radius < 0:\n",
    "            draw_bubble([center[0] + width, center[1]], b_radius, im)\n",
    "        if center[1] + b_radius > width :\n",
    "            draw_bubble([center[0], center[1] - width], b_radius, im)\n",
    "        if center[1] - b_radius < 0 :            \n",
    "            draw_bubble([center[0], center[1] + width], b_radius, im)\n",
    "    \n",
    "        # Bubble movement\n",
    "        center[1] -= 1\n",
    "        center[0] += traj[(im_id + b_offset[center_id]) % max_frame]\n",
    "        \n",
    "        # wrap: bring center back in [0, width]\n",
    "        if center[0] > width:\n",
    "            center[0] -= width\n",
    "        if center[0] < 0:\n",
    "            center[0] += width\n",
    "        if center[1] > width:\n",
    "            center[1] -= width\n",
    "        if center[1] < 0:\n",
    "            center[1] += width\n",
    "              \n",
    "    images.append(im)\n",
    "\n",
    "images[0].save('../images/piltest.gif',\n",
    "               save_all=True, \n",
    "               append_images=images[1:], \n",
    "               optimize=False, \n",
    "               disposal=2, \n",
    "               duration=1000/20, # duration = 1/fps, in ms\n",
    "               loop=0, \n",
    "               transparency=0)\n"
   ]
  },
  {
   "cell_type": "markdown",
   "metadata": {},
   "source": [
    "## Top of the glass\n",
    "\n",
    "Some fresh-looking water."
   ]
  },
  {
   "cell_type": "code",
   "execution_count": null,
   "metadata": {
    "scrolled": true
   },
   "outputs": [],
   "source": [
    "\n",
    "pixel_size = 10\n",
    "increments = 5\n",
    "width, height = (1900//pixel_size, 1080//pixel_size)\n",
    "im = Image.new('RGB', (width, height), (93, 199, 241))\n",
    "\n",
    "pixels = im.load()\n",
    "\n",
    "for step in range(25):\n",
    "    for i in range(width):\n",
    "        for j in range(height):\n",
    "            if random() > j/height:\n",
    "                r, g, b = pixels[i,j]\n",
    "                if random() > 0.5:\n",
    "                    r = min(r + increments, 255)\n",
    "                    \n",
    "                if random() > 0.5:\n",
    "                    g = min(g + increments, 255)\n",
    "                \n",
    "                if random() > 0.5:\n",
    "                    b = min(b + increments, 255)\n",
    "                pixels[i,j] = (r, g, b)\n",
    "\n",
    "\n",
    "IPython.display.display(im)"
   ]
  },
  {
   "cell_type": "code",
   "execution_count": null,
   "metadata": {},
   "outputs": [],
   "source": [
    "im.save('testcoolwater.jpg')"
   ]
  },
  {
   "cell_type": "code",
   "execution_count": null,
   "metadata": {},
   "outputs": [],
   "source": []
  }
 ],
 "metadata": {
  "kernelspec": {
   "display_name": "Python 3",
   "language": "python",
   "name": "python3"
  },
  "language_info": {
   "codemirror_mode": {
    "name": "ipython",
    "version": 3
   },
   "file_extension": ".py",
   "mimetype": "text/x-python",
   "name": "python",
   "nbconvert_exporter": "python",
   "pygments_lexer": "ipython3",
   "version": "3.8.5"
  }
 },
 "nbformat": 4,
 "nbformat_minor": 4
}
